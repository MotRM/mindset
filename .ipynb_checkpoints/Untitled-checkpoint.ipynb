{
 "cells": [
  {
   "cell_type": "code",
   "execution_count": 1,
   "id": "e0fa909b",
   "metadata": {},
   "outputs": [],
   "source": [
    "from neo4j import GraphDatabase"
   ]
  },
  {
   "cell_type": "code",
   "execution_count": 2,
   "id": "651b1e36",
   "metadata": {},
   "outputs": [],
   "source": [
    "user = 'Mishin'\n",
    "password = 'Mishin040189'"
   ]
  },
  {
   "cell_type": "code",
   "execution_count": 3,
   "id": "4f3ab46c",
   "metadata": {},
   "outputs": [],
   "source": [
    "class Neo4jConnection:\n",
    "    def __init__(self, uri, user, password):\n",
    "        self.driver = GraphDatabase.driver(uri, auth=(user, password))\n",
    "\n",
    "    def close(self):\n",
    "        if self.driver is not None:\n",
    "            self.driver.close()\n",
    "\n",
    "    def query(self, query, db=None):\n",
    "        assert self.driver is not None, \"Driver not initialized!\"\n",
    "        session = None\n",
    "        response = None\n",
    "        try:\n",
    "            session = self.driver.session(database=db) if db is not None else self.driver.session()\n",
    "            response = list(session.run(query))\n",
    "        except Exception as e:\n",
    "            print(\"Query failed:\", e)\n",
    "        finally:\n",
    "            if session is not None:\n",
    "                session.close()\n",
    "        return response"
   ]
  },
  {
   "cell_type": "code",
   "execution_count": 4,
   "id": "13611b32",
   "metadata": {},
   "outputs": [
    {
     "data": {
      "text/plain": [
       "[]"
      ]
     },
     "execution_count": 4,
     "metadata": {},
     "output_type": "execute_result"
    }
   ],
   "source": [
    "conn = Neo4jConnection(uri=\"bolt://localhost:7687\", user=user, password=password)\n",
    "conn.query(\"CREATE OR REPLACE DATABASE mindsetDb\")"
   ]
  },
  {
   "cell_type": "code",
   "execution_count": 5,
   "id": "f6b36d0e",
   "metadata": {},
   "outputs": [
    {
     "data": {
      "text/plain": [
       "[]"
      ]
     },
     "execution_count": 5,
     "metadata": {},
     "output_type": "execute_result"
    }
   ],
   "source": [
    "query_string = '''\n",
    "LOAD CSV WITH HEADERS FROM\n",
    "'https://raw.githubusercontent.com/MotRM/mindset/main/data_test.csv'\n",
    "AS line FIELDTERMINATOR ','\n",
    "MERGE (event:Event {eventID: line.EventID})\n",
    "  ON CREATE SET event.Namefirst = line.Namefirst, event.Namesecond = line.Namesecond;\n",
    "'''\n",
    "conn.query(query_string, db='mindsetDb')"
   ]
  },
  {
   "cell_type": "code",
   "execution_count": 12,
   "id": "2051af5a",
   "metadata": {},
   "outputs": [
    {
     "name": "stdout",
     "output_type": "stream",
     "text": [
      "                      event.Namefirst                 event.Namesecond  \\\n",
      "0      Галчевская Карина Владимировна  Белоновская Анастасия Семеновна   \n",
      "1             Офицеров Олег Романович        Сапожник Борис Валерьевич   \n",
      "2         Жандарова Лариса Германовна       Чемодуров Дамир Русланович   \n",
      "3              Масимова Яна Дамировна   Мингажетдинов Рамиль Семенович   \n",
      "4           Мухтарова Алена Яковлевна      Щербатенко Ольга Робертовна   \n",
      "5         Русских Кира Константиновна        Федутинов Артем Артурович   \n",
      "6        Федонкина Кристина Маратовна        Маргиев Григорий Иванович   \n",
      "7   Чернолусская Екатерина Марселевна      Бухановская Лидия Радиковна   \n",
      "8         Оранский Владимир Артурович           Скотников Виктор Ильич   \n",
      "9          Ардатов Андрей Анатольевич          Ханыгин Дмитрий Юрьевич   \n",
      "10          Рифтин Кирилл Анатольевич    Гальчевская Полина Васильевна   \n",
      "11              Балог Вадим Никитович       Абушаева Екатерина Юрьевна   \n",
      "12     Голиборода Жанна Александровна           Бычек Виктор Рамилевич   \n",
      "13    Слободяникова Галина Германовна         Васюхнов Глеб Леонидович   \n",
      "14     Вахрушкова Екатерина Маратовна   Лифенко Марсель Константинович   \n",
      "15    Сероштанов Александр Евгеньевич      Оконишников Ефим Викторович   \n",
      "16          Канева Наталья Робертовна      Оверчук Вячеслав Викторович   \n",
      "17          Маркидонов Юрий Антонович        Сайденова Кира Ильдаровна   \n",
      "18          Гаглоева Диана Германовна    Парчевская Элина Валентиновна   \n",
      "19           Скулкин Глеб Альбертович      Ленивцева Кристина Ивановна   \n",
      "\n",
      "   event.eventID  \n",
      "0            189  \n",
      "1            206  \n",
      "2            445  \n",
      "3            503  \n",
      "4            571  \n",
      "5            595  \n",
      "6            637  \n",
      "7            741  \n",
      "8            996  \n",
      "9           1210  \n",
      "10          1392  \n",
      "11          1543  \n",
      "12          1679  \n",
      "13          1903  \n",
      "14          1935  \n",
      "15          2012  \n",
      "16          2053  \n",
      "17          2128  \n",
      "18          2663  \n",
      "19          2679  \n"
     ]
    }
   ],
   "source": [
    "from pandas import DataFrame\n",
    "\n",
    "query_string = '''\n",
    "MATCH (event:Event)\n",
    "RETURN event.Namefirst, event.Namesecond, event.eventID\n",
    "LIMIT 20\n",
    "'''\n",
    "\n",
    "dtf_data = DataFrame([dict(_) for _ in conn.query(query_string, db='mindsetDb')])\n",
    "\n",
    "print(dtf_data)"
   ]
  },
  {
   "cell_type": "code",
   "execution_count": 18,
   "id": "fe853438",
   "metadata": {},
   "outputs": [
    {
     "name": "stdout",
     "output_type": "stream",
     "text": [
      "[<Record event=<Node element_id='4:1c7d5817-b1c6-4e8d-9d0f-eee415d06bf8:2' labels=frozenset({'Event'}) properties={'Namesecond': 'Чемодуров Дамир Русланович', 'eventID': '445', 'Namefirst': 'Жандарова Лариса Германовна'}>>]\n"
     ]
    }
   ],
   "source": [
    "query_string = '''\n",
    "MATCH (event:Event {Namefirst: 'Жандарова Лариса Германовна'})\n",
    "RETURN event\n",
    "'''\n",
    "print(conn.query(query_string, db='mindsetDb'))"
   ]
  },
  {
   "cell_type": "code",
   "execution_count": 19,
   "id": "f0052542",
   "metadata": {},
   "outputs": [
    {
     "name": "stdout",
     "output_type": "stream",
     "text": [
      "[<Record event=<Node element_id='4:1c7d5817-b1c6-4e8d-9d0f-eee415d06bf8:15' labels=frozenset({'Event'}) properties={'Namesecond': 'Оконишников Ефим Викторович', 'eventID': '2012', 'Namefirst': 'Сероштанов Александр Евгеньевич'}>>]\n"
     ]
    }
   ],
   "source": [
    "query_string = '''\n",
    "MATCH (event:Event {eventID: '2012'})\n",
    "RETURN event\n",
    "'''\n",
    "print(conn.query(query_string, db='mindsetDb'))"
   ]
  },
  {
   "cell_type": "code",
   "execution_count": null,
   "id": "98d9d4f0",
   "metadata": {},
   "outputs": [],
   "source": []
  }
 ],
 "metadata": {
  "kernelspec": {
   "display_name": "Python 3 (ipykernel)",
   "language": "python",
   "name": "python3"
  },
  "language_info": {
   "codemirror_mode": {
    "name": "ipython",
    "version": 3
   },
   "file_extension": ".py",
   "mimetype": "text/x-python",
   "name": "python",
   "nbconvert_exporter": "python",
   "pygments_lexer": "ipython3",
   "version": "3.9.5"
  }
 },
 "nbformat": 4,
 "nbformat_minor": 5
}
