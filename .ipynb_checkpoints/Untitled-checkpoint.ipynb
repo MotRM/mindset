{
 "cells": [
  {
   "cell_type": "code",
   "execution_count": 2,
   "id": "e0fa909b",
   "metadata": {},
   "outputs": [],
   "source": [
    "from neo4j import GraphDatabase"
   ]
  },
  {
   "cell_type": "code",
   "execution_count": 3,
   "id": "651b1e36",
   "metadata": {},
   "outputs": [],
   "source": [
    "user = 'Mishin'\n",
    "password = 'Mishin040189'"
   ]
  },
  {
   "cell_type": "code",
   "execution_count": 4,
   "id": "4f3ab46c",
   "metadata": {},
   "outputs": [],
   "source": [
    "class Neo4jConnection:\n",
    "    def __init__(self, uri, user, password):\n",
    "        self.driver = GraphDatabase.driver(uri, auth=(user, password))\n",
    "\n",
    "    def close(self):\n",
    "        if self.driver is not None:\n",
    "            self.driver.close()\n",
    "\n",
    "    def query(self, query, db=None):\n",
    "        assert self.driver is not None, \"Driver not initialized!\"\n",
    "        session = None\n",
    "        response = None\n",
    "        try:\n",
    "            session = self.driver.session(database=db) if db is not None else self.driver.session()\n",
    "            response = list(session.run(query))\n",
    "        except Exception as e:\n",
    "            print(\"Query failed:\", e)\n",
    "        finally:\n",
    "            if session is not None:\n",
    "                session.close()\n",
    "        return response"
   ]
  },
  {
   "cell_type": "code",
   "execution_count": 5,
   "id": "13611b32",
   "metadata": {},
   "outputs": [
    {
     "data": {
      "text/plain": [
       "[]"
      ]
     },
     "execution_count": 5,
     "metadata": {},
     "output_type": "execute_result"
    }
   ],
   "source": [
    "conn = Neo4jConnection(uri=\"bolt://localhost:7687\", user=user, password=password)\n",
    "conn.query(\"CREATE OR REPLACE DATABASE mindsetDb\")"
   ]
  },
  {
   "cell_type": "code",
   "execution_count": 6,
   "id": "f6b36d0e",
   "metadata": {},
   "outputs": [
    {
     "data": {
      "text/plain": [
       "[]"
      ]
     },
     "execution_count": 6,
     "metadata": {},
     "output_type": "execute_result"
    }
   ],
   "source": [
    "query_string = '''\n",
    "LOAD CSV WITH HEADERS FROM\n",
    "'https://github.com/MotRM/mindset/blob/main/data_test.csv'\n",
    "AS line FIELDTERMINATOR ';'\n",
    "MERGE (event:Event {productID: line.ProductID})\n",
    "  ON CREATE SET product.productName = line.ProductName, product.UnitPrice = toFloat(line.UnitPrice);\n",
    "'''\n",
    "conn.query(query_string, db='mindsetDb')"
   ]
  },
  {
   "cell_type": "code",
   "execution_count": null,
   "id": "2051af5a",
   "metadata": {},
   "outputs": [],
   "source": []
  }
 ],
 "metadata": {
  "kernelspec": {
   "display_name": "Python 3 (ipykernel)",
   "language": "python",
   "name": "python3"
  },
  "language_info": {
   "codemirror_mode": {
    "name": "ipython",
    "version": 3
   },
   "file_extension": ".py",
   "mimetype": "text/x-python",
   "name": "python",
   "nbconvert_exporter": "python",
   "pygments_lexer": "ipython3",
   "version": "3.9.5"
  }
 },
 "nbformat": 4,
 "nbformat_minor": 5
}
